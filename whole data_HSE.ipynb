{
 "cells": [
  {
   "cell_type": "code",
   "execution_count": 1,
   "metadata": {},
   "outputs": [],
   "source": [
    "from torch import nn\n",
    "import torch\n",
    "from torch import tensor \n",
    "from torch.autograd import Variable\n",
    "import pandas as pd\n",
    "import numpy as np\n",
    "import matplotlib.pyplot as plt \n",
    "from pytorch_tabnet.tab_model import TabNetClassifier, TabNetRegressor\n",
    "from sklearn.metrics import roc_auc_score\n",
    "\n",
    "train= pd.read_csv('output.csv')\n",
    "#df = pd.read_csv('./data/my.nih.norm.csv')\n",
    "#df1 = pd.read_csv('./data/abcd_tbss01.csv')\n"
   ]
  },
  {
   "cell_type": "code",
   "execution_count": 2,
   "metadata": {},
   "outputs": [],
   "source": [
    "data_all=train[train['HSE gap'].isnull() ==False]"
   ]
  },
  {
   "cell_type": "code",
   "execution_count": 3,
   "metadata": {},
   "outputs": [],
   "source": [
    "\n",
    "dataset=data_all.fillna(0).reset_index(drop=True)"
   ]
  },
  {
   "cell_type": "code",
   "execution_count": 4,
   "metadata": {},
   "outputs": [
    {
     "data": {
      "text/html": [
       "<div>\n",
       "<style scoped>\n",
       "    .dataframe tbody tr th:only-of-type {\n",
       "        vertical-align: middle;\n",
       "    }\n",
       "\n",
       "    .dataframe tbody tr th {\n",
       "        vertical-align: top;\n",
       "    }\n",
       "\n",
       "    .dataframe thead th {\n",
       "        text-align: right;\n",
       "    }\n",
       "</style>\n",
       "<table border=\"1\" class=\"dataframe\">\n",
       "  <thead>\n",
       "    <tr style=\"text-align: right;\">\n",
       "      <th></th>\n",
       "      <th>Material</th>\n",
       "      <th>ICSD number</th>\n",
       "      <th>GGA gap</th>\n",
       "      <th>HSE gap</th>\n",
       "      <th>Atomic mass</th>\n",
       "      <th>Atomic no</th>\n",
       "      <th>Atomic orbitals_1s</th>\n",
       "      <th>Atomic orbitals_2s</th>\n",
       "      <th>Atomic orbitals_2p</th>\n",
       "      <th>Atomic orbitals_3s</th>\n",
       "      <th>...</th>\n",
       "      <th>Min oxidation state</th>\n",
       "      <th>Ionic radii hs_2</th>\n",
       "      <th>Ionic radii hs_3</th>\n",
       "      <th>Ionic radii hs_4</th>\n",
       "      <th>Ionic radii ls_2</th>\n",
       "      <th>Ionic radii ls_3</th>\n",
       "      <th>Ionic radii ls_4</th>\n",
       "      <th>Ionic radii ls_5</th>\n",
       "      <th>Ionic radii ls_6</th>\n",
       "      <th>Ionic radii ls_7</th>\n",
       "    </tr>\n",
       "  </thead>\n",
       "  <tbody>\n",
       "    <tr>\n",
       "      <th>0</th>\n",
       "      <td>S</td>\n",
       "      <td>38263</td>\n",
       "      <td>1.975665</td>\n",
       "      <td>3.067626</td>\n",
       "      <td>32.065000</td>\n",
       "      <td>16.0</td>\n",
       "      <td>-87.789937</td>\n",
       "      <td>-7.699940</td>\n",
       "      <td>-5.751257</td>\n",
       "      <td>-0.630912</td>\n",
       "      <td>...</td>\n",
       "      <td>0.0</td>\n",
       "      <td>0.000</td>\n",
       "      <td>0.00</td>\n",
       "      <td>0.00</td>\n",
       "      <td>0.00</td>\n",
       "      <td>0.000</td>\n",
       "      <td>0.0</td>\n",
       "      <td>0.0</td>\n",
       "      <td>0.0</td>\n",
       "      <td>0.0</td>\n",
       "    </tr>\n",
       "    <tr>\n",
       "      <th>1</th>\n",
       "      <td>Se</td>\n",
       "      <td>86375</td>\n",
       "      <td>1.479159</td>\n",
       "      <td>2.299414</td>\n",
       "      <td>78.960000</td>\n",
       "      <td>34.0</td>\n",
       "      <td>-451.300258</td>\n",
       "      <td>-57.311948</td>\n",
       "      <td>-51.514388</td>\n",
       "      <td>-7.547186</td>\n",
       "      <td>...</td>\n",
       "      <td>0.0</td>\n",
       "      <td>0.000</td>\n",
       "      <td>0.00</td>\n",
       "      <td>0.00</td>\n",
       "      <td>0.00</td>\n",
       "      <td>0.000</td>\n",
       "      <td>0.0</td>\n",
       "      <td>0.0</td>\n",
       "      <td>0.0</td>\n",
       "      <td>0.0</td>\n",
       "    </tr>\n",
       "    <tr>\n",
       "      <th>2</th>\n",
       "      <td>C</td>\n",
       "      <td>193439</td>\n",
       "      <td>0</td>\n",
       "      <td>0.000000</td>\n",
       "      <td>12.010700</td>\n",
       "      <td>6.0</td>\n",
       "      <td>-9.947718</td>\n",
       "      <td>-0.500866</td>\n",
       "      <td>-0.199186</td>\n",
       "      <td>0.000000</td>\n",
       "      <td>...</td>\n",
       "      <td>0.0</td>\n",
       "      <td>0.000</td>\n",
       "      <td>0.00</td>\n",
       "      <td>0.00</td>\n",
       "      <td>0.00</td>\n",
       "      <td>0.000</td>\n",
       "      <td>0.0</td>\n",
       "      <td>0.0</td>\n",
       "      <td>0.0</td>\n",
       "      <td>0.0</td>\n",
       "    </tr>\n",
       "    <tr>\n",
       "      <th>3</th>\n",
       "      <td>C</td>\n",
       "      <td>157074</td>\n",
       "      <td>0.101161</td>\n",
       "      <td>0.112731</td>\n",
       "      <td>12.010700</td>\n",
       "      <td>6.0</td>\n",
       "      <td>-9.947718</td>\n",
       "      <td>-0.500866</td>\n",
       "      <td>-0.199186</td>\n",
       "      <td>0.000000</td>\n",
       "      <td>...</td>\n",
       "      <td>0.0</td>\n",
       "      <td>0.000</td>\n",
       "      <td>0.00</td>\n",
       "      <td>0.00</td>\n",
       "      <td>0.00</td>\n",
       "      <td>0.000</td>\n",
       "      <td>0.0</td>\n",
       "      <td>0.0</td>\n",
       "      <td>0.0</td>\n",
       "      <td>0.0</td>\n",
       "    </tr>\n",
       "    <tr>\n",
       "      <th>4</th>\n",
       "      <td>C</td>\n",
       "      <td>20351</td>\n",
       "      <td>3.011296</td>\n",
       "      <td>4.134729</td>\n",
       "      <td>12.010700</td>\n",
       "      <td>6.0</td>\n",
       "      <td>-9.947718</td>\n",
       "      <td>-0.500866</td>\n",
       "      <td>-0.199186</td>\n",
       "      <td>0.000000</td>\n",
       "      <td>...</td>\n",
       "      <td>0.0</td>\n",
       "      <td>0.000</td>\n",
       "      <td>0.00</td>\n",
       "      <td>0.00</td>\n",
       "      <td>0.00</td>\n",
       "      <td>0.000</td>\n",
       "      <td>0.0</td>\n",
       "      <td>0.0</td>\n",
       "      <td>0.0</td>\n",
       "      <td>0.0</td>\n",
       "    </tr>\n",
       "    <tr>\n",
       "      <th>...</th>\n",
       "      <td>...</td>\n",
       "      <td>...</td>\n",
       "      <td>...</td>\n",
       "      <td>...</td>\n",
       "      <td>...</td>\n",
       "      <td>...</td>\n",
       "      <td>...</td>\n",
       "      <td>...</td>\n",
       "      <td>...</td>\n",
       "      <td>...</td>\n",
       "      <td>...</td>\n",
       "      <td>...</td>\n",
       "      <td>...</td>\n",
       "      <td>...</td>\n",
       "      <td>...</td>\n",
       "      <td>...</td>\n",
       "      <td>...</td>\n",
       "      <td>...</td>\n",
       "      <td>...</td>\n",
       "      <td>...</td>\n",
       "      <td>...</td>\n",
       "    </tr>\n",
       "    <tr>\n",
       "      <th>11995</th>\n",
       "      <td>Co1F1H4Na1O6S1</td>\n",
       "      <td>169111</td>\n",
       "      <td>3.202057</td>\n",
       "      <td>4.974672</td>\n",
       "      <td>58.933195</td>\n",
       "      <td>27.0</td>\n",
       "      <td>-275.616639</td>\n",
       "      <td>-32.379758</td>\n",
       "      <td>-28.152095</td>\n",
       "      <td>-3.651812</td>\n",
       "      <td>...</td>\n",
       "      <td>0.0</td>\n",
       "      <td>0.885</td>\n",
       "      <td>0.75</td>\n",
       "      <td>0.67</td>\n",
       "      <td>0.79</td>\n",
       "      <td>0.685</td>\n",
       "      <td>0.0</td>\n",
       "      <td>0.0</td>\n",
       "      <td>0.0</td>\n",
       "      <td>0.0</td>\n",
       "    </tr>\n",
       "    <tr>\n",
       "      <th>11996</th>\n",
       "      <td>C2H6K1N4O4P1</td>\n",
       "      <td>424131</td>\n",
       "      <td>5.238256</td>\n",
       "      <td>6.872532</td>\n",
       "      <td>12.010700</td>\n",
       "      <td>6.0</td>\n",
       "      <td>-9.947718</td>\n",
       "      <td>-0.500866</td>\n",
       "      <td>-0.199186</td>\n",
       "      <td>0.000000</td>\n",
       "      <td>...</td>\n",
       "      <td>0.0</td>\n",
       "      <td>0.000</td>\n",
       "      <td>0.00</td>\n",
       "      <td>0.00</td>\n",
       "      <td>0.00</td>\n",
       "      <td>0.000</td>\n",
       "      <td>0.0</td>\n",
       "      <td>0.0</td>\n",
       "      <td>0.0</td>\n",
       "      <td>0.0</td>\n",
       "    </tr>\n",
       "    <tr>\n",
       "      <th>11997</th>\n",
       "      <td>B2Be2Ca1F1K1O6</td>\n",
       "      <td>183886</td>\n",
       "      <td>5.256318</td>\n",
       "      <td>7.025251</td>\n",
       "      <td>10.811000</td>\n",
       "      <td>5.0</td>\n",
       "      <td>-6.564347</td>\n",
       "      <td>-0.344701</td>\n",
       "      <td>-0.136603</td>\n",
       "      <td>0.000000</td>\n",
       "      <td>...</td>\n",
       "      <td>0.0</td>\n",
       "      <td>0.000</td>\n",
       "      <td>0.00</td>\n",
       "      <td>0.00</td>\n",
       "      <td>0.00</td>\n",
       "      <td>0.000</td>\n",
       "      <td>0.0</td>\n",
       "      <td>0.0</td>\n",
       "      <td>0.0</td>\n",
       "      <td>0.0</td>\n",
       "    </tr>\n",
       "    <tr>\n",
       "      <th>11998</th>\n",
       "      <td>C8Cr1H12N2O2S2</td>\n",
       "      <td>250698</td>\n",
       "      <td>1.989884</td>\n",
       "      <td>3.025600</td>\n",
       "      <td>12.010700</td>\n",
       "      <td>6.0</td>\n",
       "      <td>-9.947718</td>\n",
       "      <td>-0.500866</td>\n",
       "      <td>-0.199186</td>\n",
       "      <td>0.000000</td>\n",
       "      <td>...</td>\n",
       "      <td>0.0</td>\n",
       "      <td>0.000</td>\n",
       "      <td>0.00</td>\n",
       "      <td>0.00</td>\n",
       "      <td>0.00</td>\n",
       "      <td>0.000</td>\n",
       "      <td>0.0</td>\n",
       "      <td>0.0</td>\n",
       "      <td>0.0</td>\n",
       "      <td>0.0</td>\n",
       "    </tr>\n",
       "    <tr>\n",
       "      <th>11999</th>\n",
       "      <td>C4Cs2H2N4O2Pt1</td>\n",
       "      <td>418911</td>\n",
       "      <td>1.497389</td>\n",
       "      <td>2.489668</td>\n",
       "      <td>12.010700</td>\n",
       "      <td>6.0</td>\n",
       "      <td>-9.947718</td>\n",
       "      <td>-0.500866</td>\n",
       "      <td>-0.199186</td>\n",
       "      <td>0.000000</td>\n",
       "      <td>...</td>\n",
       "      <td>0.0</td>\n",
       "      <td>0.000</td>\n",
       "      <td>0.00</td>\n",
       "      <td>0.00</td>\n",
       "      <td>0.00</td>\n",
       "      <td>0.000</td>\n",
       "      <td>0.0</td>\n",
       "      <td>0.0</td>\n",
       "      <td>0.0</td>\n",
       "      <td>0.0</td>\n",
       "    </tr>\n",
       "  </tbody>\n",
       "</table>\n",
       "<p>12000 rows × 117 columns</p>\n",
       "</div>"
      ],
      "text/plain": [
       "             Material  ICSD number   GGA gap   HSE gap  Atomic mass  \\\n",
       "0                   S        38263  1.975665  3.067626    32.065000   \n",
       "1                  Se        86375  1.479159  2.299414    78.960000   \n",
       "2                   C       193439         0  0.000000    12.010700   \n",
       "3                   C       157074  0.101161  0.112731    12.010700   \n",
       "4                   C        20351  3.011296  4.134729    12.010700   \n",
       "...               ...          ...       ...       ...          ...   \n",
       "11995  Co1F1H4Na1O6S1       169111  3.202057  4.974672    58.933195   \n",
       "11996    C2H6K1N4O4P1       424131  5.238256  6.872532    12.010700   \n",
       "11997  B2Be2Ca1F1K1O6       183886  5.256318  7.025251    10.811000   \n",
       "11998  C8Cr1H12N2O2S2       250698  1.989884  3.025600    12.010700   \n",
       "11999  C4Cs2H2N4O2Pt1       418911  1.497389  2.489668    12.010700   \n",
       "\n",
       "       Atomic no  Atomic orbitals_1s  Atomic orbitals_2s  Atomic orbitals_2p  \\\n",
       "0           16.0          -87.789937           -7.699940           -5.751257   \n",
       "1           34.0         -451.300258          -57.311948          -51.514388   \n",
       "2            6.0           -9.947718           -0.500866           -0.199186   \n",
       "3            6.0           -9.947718           -0.500866           -0.199186   \n",
       "4            6.0           -9.947718           -0.500866           -0.199186   \n",
       "...          ...                 ...                 ...                 ...   \n",
       "11995       27.0         -275.616639          -32.379758          -28.152095   \n",
       "11996        6.0           -9.947718           -0.500866           -0.199186   \n",
       "11997        5.0           -6.564347           -0.344701           -0.136603   \n",
       "11998        6.0           -9.947718           -0.500866           -0.199186   \n",
       "11999        6.0           -9.947718           -0.500866           -0.199186   \n",
       "\n",
       "       Atomic orbitals_3s  ...  Min oxidation state  Ionic radii hs_2  \\\n",
       "0               -0.630912  ...                  0.0             0.000   \n",
       "1               -7.547186  ...                  0.0             0.000   \n",
       "2                0.000000  ...                  0.0             0.000   \n",
       "3                0.000000  ...                  0.0             0.000   \n",
       "4                0.000000  ...                  0.0             0.000   \n",
       "...                   ...  ...                  ...               ...   \n",
       "11995           -3.651812  ...                  0.0             0.885   \n",
       "11996            0.000000  ...                  0.0             0.000   \n",
       "11997            0.000000  ...                  0.0             0.000   \n",
       "11998            0.000000  ...                  0.0             0.000   \n",
       "11999            0.000000  ...                  0.0             0.000   \n",
       "\n",
       "       Ionic radii hs_3  Ionic radii hs_4  Ionic radii ls_2  Ionic radii ls_3  \\\n",
       "0                  0.00              0.00              0.00             0.000   \n",
       "1                  0.00              0.00              0.00             0.000   \n",
       "2                  0.00              0.00              0.00             0.000   \n",
       "3                  0.00              0.00              0.00             0.000   \n",
       "4                  0.00              0.00              0.00             0.000   \n",
       "...                 ...               ...               ...               ...   \n",
       "11995              0.75              0.67              0.79             0.685   \n",
       "11996              0.00              0.00              0.00             0.000   \n",
       "11997              0.00              0.00              0.00             0.000   \n",
       "11998              0.00              0.00              0.00             0.000   \n",
       "11999              0.00              0.00              0.00             0.000   \n",
       "\n",
       "       Ionic radii ls_4  Ionic radii ls_5  Ionic radii ls_6  Ionic radii ls_7  \n",
       "0                   0.0               0.0               0.0               0.0  \n",
       "1                   0.0               0.0               0.0               0.0  \n",
       "2                   0.0               0.0               0.0               0.0  \n",
       "3                   0.0               0.0               0.0               0.0  \n",
       "4                   0.0               0.0               0.0               0.0  \n",
       "...                 ...               ...               ...               ...  \n",
       "11995               0.0               0.0               0.0               0.0  \n",
       "11996               0.0               0.0               0.0               0.0  \n",
       "11997               0.0               0.0               0.0               0.0  \n",
       "11998               0.0               0.0               0.0               0.0  \n",
       "11999               0.0               0.0               0.0               0.0  \n",
       "\n",
       "[12000 rows x 117 columns]"
      ]
     },
     "execution_count": 4,
     "metadata": {},
     "output_type": "execute_result"
    }
   ],
   "source": [
    "dataset"
   ]
  },
  {
   "cell_type": "code",
   "execution_count": 5,
   "metadata": {},
   "outputs": [],
   "source": [
    "HSE_class=[]\n",
    "for i in dataset['HSE gap'] :\n",
    "    if i == 0:\n",
    "        HSE_class.append(0)\n",
    "    elif i!= 0:\n",
    "        HSE_class.append(1)"
   ]
  },
  {
   "cell_type": "code",
   "execution_count": 6,
   "metadata": {},
   "outputs": [],
   "source": [
    "dataset['HSE_class']= HSE_class"
   ]
  },
  {
   "cell_type": "code",
   "execution_count": 7,
   "metadata": {},
   "outputs": [],
   "source": [
    "\n",
    "\n",
    "\n",
    "if \"Set\" not in dataset.columns:\n",
    "    dataset[\"Set\"] = np.random.choice([\"train\", \"valid\", \"test\"], p =[.8, .1, .1], size=(dataset.shape[0],))\n",
    "\n",
    "train_indices = dataset[dataset.Set==\"train\"].index\n",
    "valid_indices = dataset[dataset.Set==\"valid\"].index\n",
    "test_indices = dataset[dataset.Set==\"test\"].index"
   ]
  },
  {
   "cell_type": "code",
   "execution_count": 8,
   "metadata": {},
   "outputs": [],
   "source": [
    "target = 'HSE_class'\n",
    "unused_feat = ['Material', 'Set', 'GGA gap', 'HSE gap']\n",
    "features = [ col for col in train.columns if col not in unused_feat + [target]] "
   ]
  },
  {
   "cell_type": "code",
   "execution_count": 9,
   "metadata": {},
   "outputs": [
    {
     "name": "stdout",
     "output_type": "stream",
     "text": [
      "X_train.shape:  (9564, 114)\n",
      "y_train.shape:  (9564,)\n",
      "X_valid.shape:  (1246, 114)\n",
      "y_valid.shape:  (1246,)\n",
      "X_test.shape:  (1190, 114)\n",
      "y_test.shape:  (1190,)\n"
     ]
    }
   ],
   "source": [
    "X_train = dataset[features].values[train_indices]\n",
    "y_train = dataset[target].values[train_indices]\n",
    "X_valid = dataset[features].values[valid_indices]\n",
    "y_valid = dataset[target].values[valid_indices]\n",
    "X_test = dataset[features].values[test_indices]\n",
    "y_test = dataset[target].values[test_indices]\n",
    "\n",
    "print(\"X_train.shape: \", X_train.shape)\n",
    "print(\"y_train.shape: \",y_train.shape)\n",
    "print(\"X_valid.shape: \", X_valid.shape)\n",
    "print(\"y_valid.shape: \",y_valid.shape)\n",
    "print(\"X_test.shape: \", X_test.shape)\n",
    "print(\"y_test.shape: \",y_test.shape)"
   ]
  },
  {
   "cell_type": "code",
   "execution_count": null,
   "metadata": {},
   "outputs": [],
   "source": [
    "# Augmented\n",
    "import torch\n",
    "import itertools\n",
    "from pytorch_tabnet.tab_model import TabNetClassifier\n",
    "from sklearn.metrics import roc_auc_score, accuracy_score\n",
    "from tqdm.notebook import tqdm\n",
    "# Store maximum auc\n",
    "max_auc = 0\n",
    "# Store maximum hypterparameter set\n",
    "max_hy = []\n",
    "# define hyperparameter space\n",
    "n_ = [4,8,16]\n",
    "lr_ = [2e-2, 1e-2, 2e-3]\n",
    "w_ = [0.01, 0.001]\n",
    "g_ = [0.95, 0.99, 0.9]\n",
    "ss_ = [10, 20, 30]\n",
    "all_ = [n_, lr_, w_, g_, ss_]\n",
    "h_space = [s for s in itertools.product(*all_)]\n",
    "# Start training\n",
    "\n",
    "\n",
    "for hy in tqdm(h_space):\n",
    "    clf = TabNetClassifier(n_a = hy[0],\n",
    "                           n_d = hy[0],\n",
    "                           optimizer_params = dict(lr=hy[1], weight_decay=hy[2]),\n",
    "                           scheduler_params={\"step_size\":hy[4], \"gamma\":hy[3]},\n",
    "                           scheduler_fn=torch.optim.lr_scheduler.StepLR,\n",
    "                           verbose=0\n",
    "                           )\n",
    "    clf.fit(X_train, y_train, X_valid, y_valid, patience=50, batch_size=256, max_epochs=200)\n",
    "    preds_acc = clf.predict(X_test)\n",
    "    preds_prob = clf.predict_proba(X_test)\n",
    "    test_auc = roc_auc_score(y_score=preds_prob[:,1], y_true=y_test)\n",
    "    test_acc = accuracy_score(preds_acc, y_test)\n",
    "    print(\"FINAL TEST SCORE\", test_auc, test_acc)\n",
    "    if test_auc>max_auc:\n",
    "        max_hy = hy\n",
    "        max_auc = test_auc\n"
   ]
  },
  {
   "cell_type": "code",
   "execution_count": 11,
   "metadata": {
    "scrolled": false
   },
   "outputs": [
    {
     "name": "stdout",
     "output_type": "stream",
     "text": [
      "Device used : cuda\n",
      "max_hy =  (4, 0.02, 0.01, 0.99, 10)\n",
      "FINAL TEST SCORE 0.6982244691607684 0.9033613445378151\n"
     ]
    }
   ],
   "source": [
    "import torch\n",
    "import itertools\n",
    "from pytorch_tabnet.tab_model import TabNetClassifier\n",
    "from sklearn.metrics import roc_auc_score, accuracy_score\n",
    "from tqdm.notebook import tqdm\n",
    "\n",
    "hy = (4, 0.02, 0.01, 0.99, 10)\n",
    "clf = TabNetClassifier(n_a = hy[0],\n",
    "                           n_d = hy[0],\n",
    "                           optimizer_params = dict(lr=hy[1], weight_decay=hy[2]),\n",
    "                           scheduler_params={\"step_size\":hy[4], \"gamma\":hy[3]},\n",
    "                           scheduler_fn=torch.optim.lr_scheduler.StepLR,\n",
    "                           verbose=0\n",
    "                           )\n",
    "clf.fit(X_train, y_train, X_valid, y_valid, patience=50, batch_size=256, max_epochs=200)\n",
    "preds_acc = clf.predict(X_test)\n",
    "preds_prob = clf.predict_proba(X_test)\n",
    "test_auc = roc_auc_score(y_score=preds_prob[:,1], y_true=y_test)\n",
    "test_acc = accuracy_score(preds_acc, y_test)\n",
    "print(\"max_hy = \" ,hy)\n",
    "print(\"FINAL TEST SCORE\", test_auc, test_acc)\n",
    "    "
   ]
  },
  {
   "cell_type": "code",
   "execution_count": 32,
   "metadata": {},
   "outputs": [
    {
     "data": {
      "text/plain": [
       "Text(0, 0.5, 'Loss')"
      ]
     },
     "execution_count": 32,
     "metadata": {},
     "output_type": "execute_result"
    },
    {
     "data": {
      "image/png": "[encoded data removed]",
      "text/plain": [
       "<Figure size 432x288 with 1 Axes>"
      ]
     },
     "metadata": {
      "needs_background": "light"
     },
     "output_type": "display_data"
    }
   ],
   "source": [
    "\n",
    "plt.plot(clf.history['train']['loss'], label='train')\n",
    "plt.plot(clf.history['valid']['loss'], label='valid')\n",
    "plt.legend()\n",
    "\n",
    "plt.title('Loss per Epochs_HSE')\n",
    "plt.xlabel('Epochs')\n",
    "plt.ylabel('Loss')\n",
    "\n"
   ]
  },
  {
   "cell_type": "code",
   "execution_count": 20,
   "metadata": {},
   "outputs": [
    {
     "data": {
      "text/plain": [
       "[<matplotlib.lines.Line2D at 0x7f97bd7b1a10>]"
      ]
     },
     "execution_count": 20,
     "metadata": {},
     "output_type": "execute_result"
    },
    {
     "data": {
      "image/png": "[encoded data removed]",
      "text/plain": [
       "<Figure size 432x288 with 1 Axes>"
      ]
     },
     "metadata": {
      "needs_background": "light"
     },
     "output_type": "display_data"
    }
   ],
   "source": [
    "plt.plot(clf.history['train']['lr'])\n"
   ]
  },
  {
   "cell_type": "code",
   "execution_count": 21,
   "metadata": {},
   "outputs": [
    {
     "data": {
      "image/png": "[encoded data removed]",
      "text/plain": [
       "<Figure size 432x288 with 1 Axes>"
      ]
     },
     "metadata": {
      "needs_background": "light"
     },
     "output_type": "display_data"
    }
   ],
   "source": [
    "def rocvis(true , prob , label ) :\n",
    "    from sklearn.metrics import roc_curve\n",
    "    if type(true[0]) == str :\n",
    "        from sklearn.preprocessing import LabelEncoder\n",
    "        le = LabelEncoder()\n",
    "        true = le.fit_transform(true)\n",
    "    else :\n",
    "        pass\n",
    "    fpr, tpr, thresholds = roc_curve(true, prob)\n",
    "    plt.plot(fpr, tpr, marker='.', label = label  )\n",
    "\n",
    "target_name = 'HSE'\n",
    "plt.plot([0, 1], [0, 1], linestyle='--')\n",
    "rocvis(y_test , preds_prob[:,1] , f\"AUC:{round(test_auc*100, 2)}%\")\n",
    "\n",
    "plt.legend(fontsize = 20)\n",
    "plt.title(f'{target_name}_test', fontsize= 30)\n",
    "plt.tight_layout()\n",
    "plt.savefig(f'{target_name}_ROC.png')\n",
    "plt.show()        \n"
   ]
  },
  {
   "cell_type": "code",
   "execution_count": 24,
   "metadata": {},
   "outputs": [],
   "source": [
    "data_null=train[train['HSE gap'].isnull() ==True]"
   ]
  },
  {
   "cell_type": "code",
   "execution_count": 25,
   "metadata": {},
   "outputs": [],
   "source": [
    "data_null.to_csv('nullDF.csv')"
   ]
  },
  {
   "cell_type": "code",
   "execution_count": null,
   "metadata": {},
   "outputs": [],
   "source": []
  },
  {
   "cell_type": "code",
   "execution_count": 26,
   "metadata": {},
   "outputs": [],
   "source": [
    "X_test_null=data_null.fillna(0).reset_index(drop=True)[features].values"
   ]
  },
  {
   "cell_type": "code",
   "execution_count": 27,
   "metadata": {},
   "outputs": [
    {
     "data": {
      "text/plain": [
       "array([[1.68757000e+05, 4.00780000e+01, 2.00000000e+01, ...,\n",
       "        0.00000000e+00, 0.00000000e+00, 0.00000000e+00],\n",
       "       [7.66680000e+04, 5.86934000e+01, 2.80000000e+01, ...,\n",
       "        0.00000000e+00, 0.00000000e+00, 0.00000000e+00],\n",
       "       [1.68759000e+05, 4.00780000e+01, 2.00000000e+01, ...,\n",
       "        0.00000000e+00, 0.00000000e+00, 0.00000000e+00],\n",
       "       ...,\n",
       "       [3.80403000e+05, 1.38905470e+02, 5.70000000e+01, ...,\n",
       "        0.00000000e+00, 0.00000000e+00, 0.00000000e+00],\n",
       "       [4.14539000e+05, 1.96966569e+02, 7.90000000e+01, ...,\n",
       "        0.00000000e+00, 0.00000000e+00, 0.00000000e+00],\n",
       "       [2.80491000e+05, 3.54530000e+01, 1.70000000e+01, ...,\n",
       "        0.00000000e+00, 0.00000000e+00, 0.00000000e+00]])"
      ]
     },
     "execution_count": 27,
     "metadata": {},
     "output_type": "execute_result"
    }
   ],
   "source": [
    "X_test_null"
   ]
  },
  {
   "cell_type": "code",
   "execution_count": 28,
   "metadata": {},
   "outputs": [],
   "source": [
    "preds_acc_null = clf.predict(X_test_null)\n",
    "preds_prob_null = clf.predict_proba(X_test_null)"
   ]
  },
  {
   "cell_type": "code",
   "execution_count": 29,
   "metadata": {},
   "outputs": [],
   "source": [
    "pd.DataFrame (preds_acc_null).to_csv('Null_classify.csv')\n"
   ]
  },
  {
   "cell_type": "code",
   "execution_count": 30,
   "metadata": {},
   "outputs": [],
   "source": [
    "pd.DataFrame(preds_prob_null).to_csv('Null_prop.csv')"
   ]
  },
  {
   "cell_type": "code",
   "execution_count": 31,
   "metadata": {},
   "outputs": [
    {
     "ename": "NameError",
     "evalue": "name 'important_features' is not defined",
     "output_type": "error",
     "traceback": [
      "\u001b[0;31m---------------------------------------------------------------------------\u001b[0m",
      "\u001b[0;31mNameError\u001b[0m                                 Traceback (most recent call last)",
      "\u001b[0;32m<ipython-input-31-b1dad2c29372>\u001b[0m in \u001b[0;36m<module>\u001b[0;34m\u001b[0m\n\u001b[0;32m----> 1\u001b[0;31m \u001b[0mimportant_features\u001b[0m\u001b[0;34m.\u001b[0m\u001b[0mreset_index\u001b[0m\u001b[0;34m(\u001b[0m\u001b[0mdrop\u001b[0m\u001b[0;34m=\u001b[0m\u001b[0;32mTrue\u001b[0m\u001b[0;34m)\u001b[0m\u001b[0;34m.\u001b[0m\u001b[0mto_csv\u001b[0m\u001b[0;34m(\u001b[0m\u001b[0;34m\"data_all_HSE.csv\"\u001b[0m\u001b[0;34m)\u001b[0m\u001b[0;34m\u001b[0m\u001b[0;34m\u001b[0m\u001b[0m\n\u001b[0m",
      "\u001b[0;31mNameError\u001b[0m: name 'important_features' is not defined"
     ]
    }
   ],
   "source": [
    "important_features.reset_index(drop=True).to_csv(\"data_all_HSE.csv\")"
   ]
  }
 ],
 "metadata": {
  "kernelspec": {
   "display_name": "Python 3",
   "language": "python",
   "name": "python3"
  },
  "language_info": {
   "codemirror_mode": {
    "name": "ipython",
    "version": 3
   },
   "file_extension": ".py",
   "mimetype": "text/x-python",
   "name": "python",
   "nbconvert_exporter": "python",
   "pygments_lexer": "ipython3",
   "version": "3.7.6"
  }
 },
 "nbformat": 4,
 "nbformat_minor": 4
}
